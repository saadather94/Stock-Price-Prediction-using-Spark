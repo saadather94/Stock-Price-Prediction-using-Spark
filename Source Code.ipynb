{
 "cells": [
  {
   "cell_type": "markdown",
   "id": "becde5cd-bdda-4e12-a82d-110ad34f8df5",
   "metadata": {},
   "source": [
    "\n",
    "<img align=\"left\" width=\"75\" height=\"75\"  src=\"https://upload.wikimedia.org/wikipedia/en/e/e4/National_University_of_Computer_and_Emerging_Sciences_logo.png\"> \n",
    "\n",
    "<h1 align=\"center\" style=\"color:Brown;\"> BIG DATA ANALYTIC PROJECT </h1> <h3 align=\"center\" style=\"color:DarkRed;\"> STOCK MARKET PREDICTION  <h3><div align=\"right\" style=\"color:Purple;\">Name: <u>SAAD ATHER</u><br> Roll No. <u>21L-7289</u></div></h3></h3> \n",
    "\n",
    "---\n",
    "\n",
    "    \n"
   ]
  },
  {
   "cell_type": "code",
   "execution_count": 102,
   "id": "3d71dbc2-54fd-4961-838f-4cdb4a2f2162",
   "metadata": {},
   "outputs": [],
   "source": [
    "import findspark\n",
    "findspark.init()\n",
    "import pyspark\n",
    "from pyspark.sql import SparkSession as ss\n",
    "spark = ss.builder.appName('session').getOrCreate()\n",
    "sc= spark.sparkContext"
   ]
  },
  {
   "cell_type": "code",
   "execution_count": 105,
   "id": "db3ab74a-b5c0-4618-b360-de32818e9b18",
   "metadata": {},
   "outputs": [],
   "source": [
    "df = spark.read.csv('ABL.csv', header=True, inferSchema=True)"
   ]
  },
  {
   "cell_type": "code",
   "execution_count": 106,
   "id": "78e66694-04cd-47d7-a19a-4a81b9c0d3b3",
   "metadata": {},
   "outputs": [
    {
     "name": "stdout",
     "output_type": "stream",
     "text": [
      "+------+-----------+-----+-----+-----+-----+------+\n",
      "|Symbol|       Date| Open| High|  Low|Close|Volume|\n",
      "+------+-----------+-----+-----+-----+-----+------+\n",
      "|   ABL|16-Jan-2012|55.75|55.75|55.01|55.12|  2153|\n",
      "|   ABL|17-Jan-2012| 56.0| 56.5| 55.5|56.31| 12493|\n",
      "|   ABL|18-Jan-2012| 57.0| 57.0| 56.0|56.06| 96350|\n",
      "|   ABL|19-Jan-2012|56.75|57.21| 56.4| 57.0| 34994|\n",
      "|   ABL|20-Jan-2012| 57.7|59.49| 57.7|58.86|104409|\n",
      "+------+-----------+-----+-----+-----+-----+------+\n",
      "only showing top 5 rows\n",
      "\n"
     ]
    }
   ],
   "source": [
    "df.show(5)"
   ]
  },
  {
   "cell_type": "code",
   "execution_count": 107,
   "id": "d2df1de4-f97b-4a58-b7fa-590dc3026d5f",
   "metadata": {},
   "outputs": [
    {
     "name": "stdout",
     "output_type": "stream",
     "text": [
      "root\n",
      " |-- Symbol: string (nullable = true)\n",
      " |-- Date: string (nullable = true)\n",
      " |-- Open: double (nullable = true)\n",
      " |-- High: double (nullable = true)\n",
      " |-- Low: double (nullable = true)\n",
      " |-- Close: double (nullable = true)\n",
      " |-- Volume: integer (nullable = true)\n",
      "\n"
     ]
    }
   ],
   "source": [
    "df.printSchema()"
   ]
  },
  {
   "cell_type": "markdown",
   "id": "103da911-3944-4126-8712-2518f2a53443",
   "metadata": {
    "tags": []
   },
   "source": [
    "### Pre-Processing for Plotting Dataset visualization"
   ]
  },
  {
   "cell_type": "code",
   "execution_count": 108,
   "id": "c363e992-69d5-4168-bfc0-c70b37815c26",
   "metadata": {},
   "outputs": [],
   "source": [
    "df2 = df"
   ]
  },
  {
   "cell_type": "code",
   "execution_count": 109,
   "id": "b4ad4b32-8c12-4aab-9ede-b9eb07dee940",
   "metadata": {
    "scrolled": true,
    "tags": []
   },
   "outputs": [],
   "source": [
    "## The function will convert the date format to our standard date format\n",
    "\n",
    "def con(data):\n",
    "    date = data[1]\n",
    "    day = date[0:2]\n",
    "    month = date[3:6]\n",
    "    \n",
    "\n",
    "    if(month == 'Jan'):\n",
    "        month = '01'\n",
    "    elif(month == 'Feb'):\n",
    "        month = '02'\n",
    "    elif(month == 'Mar'):\n",
    "        month = '03'\n",
    "    elif(month == 'Apr'):\n",
    "        month = '04'\n",
    "    elif(month == 'May'):\n",
    "        month = '05'\n",
    "    elif(month == 'Jun'):\n",
    "        month = '06'\n",
    "    elif(month == 'Jul'):\n",
    "        month = '07'\n",
    "    elif(month == 'Aug'):\n",
    "        month = '08'\n",
    "    elif(month == 'Sep'):\n",
    "        month = '09'\n",
    "    elif(month == 'Oct'):\n",
    "        month = '10'\n",
    "    elif(month == 'Nov'):\n",
    "        month = '11'\n",
    "    elif(month == 'Dec'):\n",
    "        month = '12'\n",
    "    \n",
    "\n",
    "    year = date[7:]\n",
    "    a = [year,month,day]\n",
    "    datefinal = '-'.join(str(i) for i in a)\n",
    "    return [datefinal]"
   ]
  },
  {
   "cell_type": "code",
   "execution_count": 110,
   "id": "0eaa144f-8312-47cc-96f2-e3db17679c92",
   "metadata": {},
   "outputs": [],
   "source": [
    "## Coverting dataframe to RDD for date processing\n",
    "dateconvert = df2.rdd.map(lambda x : con(x)) "
   ]
  },
  {
   "cell_type": "code",
   "execution_count": 111,
   "id": "80271749-9540-41ed-947d-b990ca36e5aa",
   "metadata": {},
   "outputs": [],
   "source": [
    "date = dateconvert.toDF().withColumnRenamed('_1', 'Date_')"
   ]
  },
  {
   "cell_type": "code",
   "execution_count": 112,
   "id": "ef9826ca-67cd-41de-beba-bd9326e75c36",
   "metadata": {},
   "outputs": [],
   "source": [
    "dfdate = date.toPandas()\n",
    "df2panda = df2.toPandas()"
   ]
  },
  {
   "cell_type": "markdown",
   "id": "ef91213f-9b2e-4eb3-a26a-19630eb84d41",
   "metadata": {},
   "source": [
    "\n"
   ]
  },
  {
   "cell_type": "markdown",
   "id": "d65f9abe-fd44-4caa-a9c0-b89711358205",
   "metadata": {},
   "source": [
    "\n"
   ]
  },
  {
   "cell_type": "code",
   "execution_count": 113,
   "id": "d8e12a74-feea-48ae-9613-6a79bf6efde8",
   "metadata": {},
   "outputs": [],
   "source": [
    "import pandas as pd\n",
    "df3 = pd.concat([df2panda, dfdate], axis=1)\n"
   ]
  },
  {
   "cell_type": "code",
   "execution_count": 114,
   "id": "391225a9-4b88-4af2-92e4-f5dcf4f3adbb",
   "metadata": {},
   "outputs": [
    {
     "data": {
      "text/html": [
       "<div>\n",
       "<style scoped>\n",
       "    .dataframe tbody tr th:only-of-type {\n",
       "        vertical-align: middle;\n",
       "    }\n",
       "\n",
       "    .dataframe tbody tr th {\n",
       "        vertical-align: top;\n",
       "    }\n",
       "\n",
       "    .dataframe thead th {\n",
       "        text-align: right;\n",
       "    }\n",
       "</style>\n",
       "<table border=\"1\" class=\"dataframe\">\n",
       "  <thead>\n",
       "    <tr style=\"text-align: right;\">\n",
       "      <th></th>\n",
       "      <th>Symbol</th>\n",
       "      <th>Open</th>\n",
       "      <th>High</th>\n",
       "      <th>Low</th>\n",
       "      <th>Close</th>\n",
       "      <th>Volume</th>\n",
       "      <th>Date_</th>\n",
       "    </tr>\n",
       "  </thead>\n",
       "  <tbody>\n",
       "    <tr>\n",
       "      <th>0</th>\n",
       "      <td>ABL</td>\n",
       "      <td>55.75</td>\n",
       "      <td>55.75</td>\n",
       "      <td>55.01</td>\n",
       "      <td>55.12</td>\n",
       "      <td>2153</td>\n",
       "      <td>2012-01-16</td>\n",
       "    </tr>\n",
       "    <tr>\n",
       "      <th>1</th>\n",
       "      <td>ABL</td>\n",
       "      <td>56.00</td>\n",
       "      <td>56.50</td>\n",
       "      <td>55.50</td>\n",
       "      <td>56.31</td>\n",
       "      <td>12493</td>\n",
       "      <td>2012-01-17</td>\n",
       "    </tr>\n",
       "    <tr>\n",
       "      <th>2</th>\n",
       "      <td>ABL</td>\n",
       "      <td>57.00</td>\n",
       "      <td>57.00</td>\n",
       "      <td>56.00</td>\n",
       "      <td>56.06</td>\n",
       "      <td>96350</td>\n",
       "      <td>2012-01-18</td>\n",
       "    </tr>\n",
       "    <tr>\n",
       "      <th>3</th>\n",
       "      <td>ABL</td>\n",
       "      <td>56.75</td>\n",
       "      <td>57.21</td>\n",
       "      <td>56.40</td>\n",
       "      <td>57.00</td>\n",
       "      <td>34994</td>\n",
       "      <td>2012-01-19</td>\n",
       "    </tr>\n",
       "    <tr>\n",
       "      <th>4</th>\n",
       "      <td>ABL</td>\n",
       "      <td>57.70</td>\n",
       "      <td>59.49</td>\n",
       "      <td>57.70</td>\n",
       "      <td>58.86</td>\n",
       "      <td>104409</td>\n",
       "      <td>2012-01-20</td>\n",
       "    </tr>\n",
       "  </tbody>\n",
       "</table>\n",
       "</div>"
      ],
      "text/plain": [
       "  Symbol   Open   High    Low  Close  Volume       Date_\n",
       "0    ABL  55.75  55.75  55.01  55.12    2153  2012-01-16\n",
       "1    ABL  56.00  56.50  55.50  56.31   12493  2012-01-17\n",
       "2    ABL  57.00  57.00  56.00  56.06   96350  2012-01-18\n",
       "3    ABL  56.75  57.21  56.40  57.00   34994  2012-01-19\n",
       "4    ABL  57.70  59.49  57.70  58.86  104409  2012-01-20"
      ]
     },
     "execution_count": 114,
     "metadata": {},
     "output_type": "execute_result"
    }
   ],
   "source": [
    "## Finally dataset in standardized date format for ploting the label with respect to year data\n",
    "df4  = df3.drop('Date', axis =1)\n",
    "df4.head(5)"
   ]
  },
  {
   "cell_type": "code",
   "execution_count": 115,
   "id": "ecd7c238-596d-4b9d-945e-011c0052f265",
   "metadata": {},
   "outputs": [],
   "source": [
    "## Converting to spark Framework\n",
    "ABLdf = sparkDF=spark.createDataFrame(df4) "
   ]
  },
  {
   "cell_type": "code",
   "execution_count": 116,
   "id": "7a4dde6e-f186-4dfc-b72c-bbec46fa55f5",
   "metadata": {},
   "outputs": [
    {
     "name": "stdout",
     "output_type": "stream",
     "text": [
      "root\n",
      " |-- Symbol: string (nullable = true)\n",
      " |-- Open: double (nullable = true)\n",
      " |-- High: double (nullable = true)\n",
      " |-- Low: double (nullable = true)\n",
      " |-- Close: double (nullable = true)\n",
      " |-- Volume: long (nullable = true)\n",
      " |-- Date_: string (nullable = true)\n",
      "\n"
     ]
    }
   ],
   "source": [
    "ABLdf.printSchema()"
   ]
  },
  {
   "cell_type": "markdown",
   "id": "ac04c60e-8533-404e-8fb8-2ae97d37e50d",
   "metadata": {},
   "source": [
    "\n",
    "\n"
   ]
  },
  {
   "cell_type": "markdown",
   "id": "131c15a5-a9ba-4f7a-97bd-094625a60144",
   "metadata": {},
   "source": [
    "\n"
   ]
  },
  {
   "cell_type": "code",
   "execution_count": 117,
   "id": "995a1faf-5452-4ea4-aa5a-b9337ce81c76",
   "metadata": {},
   "outputs": [],
   "source": [
    "import pyspark.sql.functions as f\n",
    "ABLdf_dateconvert = ABLdf.withColumn('date', f.to_date('Date_'))"
   ]
  },
  {
   "cell_type": "code",
   "execution_count": 118,
   "id": "8f9cc85a-5d51-4f6d-ae78-e3148409c4ae",
   "metadata": {},
   "outputs": [
    {
     "name": "stdout",
     "output_type": "stream",
     "text": [
      "root\n",
      " |-- Symbol: string (nullable = true)\n",
      " |-- Open: double (nullable = true)\n",
      " |-- High: double (nullable = true)\n",
      " |-- Low: double (nullable = true)\n",
      " |-- Close: double (nullable = true)\n",
      " |-- Volume: long (nullable = true)\n",
      " |-- Date_: string (nullable = true)\n",
      " |-- date: date (nullable = true)\n",
      "\n"
     ]
    }
   ],
   "source": [
    "ABLdf_dateconvert.printSchema()"
   ]
  },
  {
   "cell_type": "code",
   "execution_count": 119,
   "id": "82036471-36c4-4c14-ba6a-c35eb1417d45",
   "metadata": {},
   "outputs": [],
   "source": [
    "dF= ABLdf_dateconvert.select('date','Open','Close','Volume','Low','High')"
   ]
  },
  {
   "cell_type": "code",
   "execution_count": 120,
   "id": "24fff32d-6a4e-493f-a011-e01ec3508438",
   "metadata": {},
   "outputs": [
    {
     "name": "stdout",
     "output_type": "stream",
     "text": [
      "+----------+-----+-----+------+-----+-----+\n",
      "|      date| Open|Close|Volume|  Low| High|\n",
      "+----------+-----+-----+------+-----+-----+\n",
      "|2012-01-16|55.75|55.12|  2153|55.01|55.75|\n",
      "|2012-01-17| 56.0|56.31| 12493| 55.5| 56.5|\n",
      "|2012-01-18| 57.0|56.06| 96350| 56.0| 57.0|\n",
      "|2012-01-19|56.75| 57.0| 34994| 56.4|57.21|\n",
      "|2012-01-20| 57.7|58.86|104409| 57.7|59.49|\n",
      "+----------+-----+-----+------+-----+-----+\n",
      "only showing top 5 rows\n",
      "\n"
     ]
    }
   ],
   "source": [
    "dF.show(5)"
   ]
  },
  {
   "cell_type": "code",
   "execution_count": 121,
   "id": "65c8553b-cd93-463b-a59a-532f3f70dc1d",
   "metadata": {},
   "outputs": [],
   "source": [
    "dF = dF.dropna()"
   ]
  },
  {
   "cell_type": "code",
   "execution_count": 122,
   "id": "b25e4d8d-b68f-45f3-8791-c5730dc0c24c",
   "metadata": {},
   "outputs": [
    {
     "data": {
      "text/plain": [
       "2522"
      ]
     },
     "execution_count": 122,
     "metadata": {},
     "output_type": "execute_result"
    }
   ],
   "source": [
    "dF.count()"
   ]
  },
  {
   "cell_type": "markdown",
   "id": "9b5002c6-fd40-4a7a-bf09-2068b1f1761a",
   "metadata": {},
   "source": [
    "\n"
   ]
  },
  {
   "cell_type": "markdown",
   "id": "759786a7-e2ce-4ee9-bbeb-c80c70fd33f2",
   "metadata": {},
   "source": [
    "\n"
   ]
  },
  {
   "cell_type": "code",
   "execution_count": 123,
   "id": "a85595ae-fc4c-41af-926f-f84bb3aeb7ef",
   "metadata": {},
   "outputs": [],
   "source": [
    "df_plot = dF.select('date', 'High').toPandas()\n"
   ]
  },
  {
   "cell_type": "code",
   "execution_count": 124,
   "id": "86a7ef18-3e9b-425d-977a-935e06e8cf4f",
   "metadata": {},
   "outputs": [
    {
     "data": {
      "image/png": "[encoded data removed]",
      "text/plain": [
       "<Figure size 1152x432 with 1 Axes>"
      ]
     },
     "metadata": {
      "needs_background": "light"
     },
     "output_type": "display_data"
    }
   ],
   "source": [
    "from matplotlib import pyplot as plt\n",
    "%matplotlib inline\n",
    "\n",
    "df_plot.set_index('date', inplace=True)\n",
    "df_plot.plot(figsize=(16, 6), grid=True)\n",
    "plt.title('Allied Bank Ltd. stock Price')\n",
    "plt.legend(loc = 'upper left')\n",
    "plt.ylabel('Stock price (Rs)')\n",
    "plt.xlabel('YEAR')\n",
    "plt.show()"
   ]
  },
  {
   "cell_type": "markdown",
   "id": "cd0aa73b-3c8f-440d-84fd-084eaa773005",
   "metadata": {},
   "source": [
    "\n"
   ]
  },
  {
   "cell_type": "markdown",
   "id": "0a4f9455-b3f0-4305-b4ec-444832180819",
   "metadata": {},
   "source": [
    "\n"
   ]
  },
  {
   "cell_type": "markdown",
   "id": "5c59a1cd-c1d9-46c1-bb09-1f44a447ff0a",
   "metadata": {},
   "source": [
    "# Applying the Machine Learning Models"
   ]
  },
  {
   "cell_type": "markdown",
   "id": "5858455b-a941-49dc-823d-c16ebd46e049",
   "metadata": {},
   "source": [
    "Here i will be applying two different machine learning models and see which model gives more accurate results"
   ]
  },
  {
   "cell_type": "markdown",
   "id": "65dd1004-f145-4574-a3da-f0e5660ef50e",
   "metadata": {},
   "source": [
    "## Gradient Boosting Regression"
   ]
  },
  {
   "cell_type": "code",
   "execution_count": 125,
   "id": "064dd017-ba64-401a-b02a-5ae863fefd18",
   "metadata": {},
   "outputs": [],
   "source": [
    "## converting our data to feature vector form for ML model processing\n",
    "\n",
    "from pyspark.sql import Row\n",
    "from pyspark.ml.linalg import Vectors\n",
    "\n",
    "def transData(data):\n",
    "    return data.rdd.map(lambda r: [Vectors.dense(r['Open'],r['Close'],r['Low'],r['Volume']\n",
    "                                                ),r['High']]).toDF(['features','label'])"
   ]
  },
  {
   "cell_type": "code",
   "execution_count": 126,
   "id": "3524c338-df93-4f7e-a97d-ac3d21abc8a2",
   "metadata": {},
   "outputs": [
    {
     "name": "stdout",
     "output_type": "stream",
     "text": [
      "+--------------------+-----+\n",
      "|            features|label|\n",
      "+--------------------+-----+\n",
      "|[55.75,55.12,55.0...|55.75|\n",
      "|[56.0,56.31,55.5,...| 56.5|\n",
      "|[57.0,56.06,56.0,...| 57.0|\n",
      "|[56.75,57.0,56.4,...|57.21|\n",
      "|[57.7,58.86,57.7,...|59.49|\n",
      "+--------------------+-----+\n",
      "only showing top 5 rows\n",
      "\n"
     ]
    }
   ],
   "source": [
    "transformed= transData(df)\n",
    "transformed.show(5)"
   ]
  },
  {
   "cell_type": "code",
   "execution_count": 127,
   "id": "e608ad93-0cc6-4b8c-9326-2357f35c1cd0",
   "metadata": {},
   "outputs": [
    {
     "name": "stdout",
     "output_type": "stream",
     "text": [
      "+--------------------------+-----+--------------------------+\n",
      "|features                  |label|indexedFeatures           |\n",
      "+--------------------------+-----+--------------------------+\n",
      "|[55.75,55.12,55.01,2153.0]|55.75|[55.75,55.12,55.01,2153.0]|\n",
      "|[56.0,56.31,55.5,12493.0] |56.5 |[56.0,56.31,55.5,12493.0] |\n",
      "|[57.0,56.06,56.0,96350.0] |57.0 |[57.0,56.06,56.0,96350.0] |\n",
      "|[56.75,57.0,56.4,34994.0] |57.21|[56.75,57.0,56.4,34994.0] |\n",
      "|[57.7,58.86,57.7,104409.0]|59.49|[57.7,58.86,57.7,104409.0]|\n",
      "+--------------------------+-----+--------------------------+\n",
      "only showing top 5 rows\n",
      "\n"
     ]
    }
   ],
   "source": [
    "## Indexing categorical feature columns in a dataset of Vector.\n",
    "\n",
    "\n",
    "\n",
    "from pyspark.ml.feature import VectorIndexer\n",
    "from pyspark.ml.evaluation import RegressionEvaluator\n",
    "\n",
    "featureIndexer = VectorIndexer(inputCol=\"features\", \n",
    "                               outputCol=\"indexedFeatures\",\n",
    "                               maxCategories=4).fit(transformed)\n",
    "\n",
    "data = featureIndexer.transform(transformed)\n",
    "data.show(5,False)"
   ]
  },
  {
   "cell_type": "code",
   "execution_count": null,
   "id": "1588c182-812b-4bac-99e7-65dfecf19395",
   "metadata": {},
   "outputs": [],
   "source": []
  },
  {
   "cell_type": "code",
   "execution_count": 128,
   "id": "33b66858-818b-4260-9013-868bef58a35b",
   "metadata": {},
   "outputs": [
    {
     "name": "stdout",
     "output_type": "stream",
     "text": [
      "+--------------------+-----+--------------------+\n",
      "|            features|label|     indexedFeatures|\n",
      "+--------------------+-----+--------------------+\n",
      "|[55.35,56.0,55.0,...| 56.1|[55.35,56.0,55.0,...|\n",
      "|[55.6,56.0,55.6,1...|56.25|[55.6,56.0,55.6,1...|\n",
      "|[55.75,55.12,55.0...|55.75|[55.75,55.12,55.0...|\n",
      "|[55.9,55.49,55.35...| 56.0|[55.9,55.49,55.35...|\n",
      "|[55.99,58.68,55.7...|58.68|[55.99,58.68,55.7...|\n",
      "+--------------------+-----+--------------------+\n",
      "only showing top 5 rows\n",
      "\n",
      "+--------------------+-----+--------------------+\n",
      "|            features|label|     indexedFeatures|\n",
      "+--------------------+-----+--------------------+\n",
      "|[56.55,55.93,55.8...| 57.0|[56.55,55.93,55.8...|\n",
      "|[57.7,57.64,57.5,...|57.99|[57.7,57.64,57.5,...|\n",
      "|[58.6,58.6,58.6,6...|59.15|[58.6,58.6,58.6,6...|\n",
      "|[59.0,59.0,59.0,1...| 59.0|[59.0,59.0,59.0,1...|\n",
      "|[59.9,61.05,59.5,...| 61.4|[59.9,61.05,59.5,...|\n",
      "+--------------------+-----+--------------------+\n",
      "only showing top 5 rows\n",
      "\n"
     ]
    }
   ],
   "source": [
    "\n",
    "(trainingData, testData) = data.randomSplit([0.8, 0.2])\n",
    "\n",
    "trainingData.show(5)\n",
    "testData.show(5)"
   ]
  },
  {
   "cell_type": "code",
   "execution_count": null,
   "id": "4c61a9c0-1733-466b-97e7-b6901ba12fef",
   "metadata": {},
   "outputs": [],
   "source": []
  },
  {
   "cell_type": "code",
   "execution_count": null,
   "id": "4287087b-bb58-4894-95c5-2a4577af7a1f",
   "metadata": {},
   "outputs": [],
   "source": []
  },
  {
   "cell_type": "code",
   "execution_count": 129,
   "id": "1719fe5f-e99c-4268-b918-448458cd8800",
   "metadata": {},
   "outputs": [],
   "source": [
    "from pyspark.ml.regression import GBTRegressor\n",
    "\n",
    "# Define LinearRegression algorithm\n",
    "rf = GBTRegressor()"
   ]
  },
  {
   "cell_type": "code",
   "execution_count": null,
   "id": "8894e3ee-cddf-464f-9032-d7948808ba68",
   "metadata": {},
   "outputs": [],
   "source": []
  },
  {
   "cell_type": "code",
   "execution_count": 130,
   "id": "8984b2bc-1c88-40bf-954a-4734f0ed339d",
   "metadata": {},
   "outputs": [],
   "source": [
    "from pyspark.ml import Pipeline\n",
    "\n",
    "\n",
    "pipeline1 = Pipeline(stages=[featureIndexer, rf])\n",
    "model = pipeline1.fit(trainingData)"
   ]
  },
  {
   "cell_type": "code",
   "execution_count": null,
   "id": "f4262651-9169-40c9-8934-6fe0bd7558d7",
   "metadata": {},
   "outputs": [],
   "source": []
  },
  {
   "cell_type": "code",
   "execution_count": 132,
   "id": "85099aad-c295-41dc-9c43-fccac282bd74",
   "metadata": {},
   "outputs": [
    {
     "name": "stdout",
     "output_type": "stream",
     "text": [
      "+-----+------------------+\n",
      "|label|        prediction|\n",
      "+-----+------------------+\n",
      "| 57.0| 59.78642131278546|\n",
      "|57.99| 59.86380059218875|\n",
      "|59.15| 58.23677946077636|\n",
      "| 59.0|58.184918154075845|\n",
      "| 61.4| 59.78642131278546|\n",
      "+-----+------------------+\n",
      "only showing top 5 rows\n",
      "\n"
     ]
    }
   ],
   "source": [
    "predictions = model.transform(testData)\n",
    "\n",
    "# Select example rows to display.\n",
    "pred = predictions.select(\"label\", \"prediction\")\n",
    "pred.show(5)"
   ]
  },
  {
   "cell_type": "code",
   "execution_count": null,
   "id": "8200a3d0-7703-43d6-a8a2-86c1359ce79a",
   "metadata": {},
   "outputs": [],
   "source": [
    "panDF = pred.toPandas()"
   ]
  },
  {
   "cell_type": "code",
   "execution_count": null,
   "id": "f0614d39-cf2c-494e-a09c-0ebe307eec22",
   "metadata": {},
   "outputs": [],
   "source": [
    "final = panDF.to_numpy()"
   ]
  },
  {
   "cell_type": "markdown",
   "id": "d4f76c6b-b85e-43c7-b6e1-67f660887c6b",
   "metadata": {},
   "source": [
    "\n"
   ]
  },
  {
   "cell_type": "markdown",
   "id": "189f12a1-65bf-48f3-93e4-55ee170031d7",
   "metadata": {},
   "source": [
    "\n"
   ]
  },
  {
   "cell_type": "code",
   "execution_count": 74,
   "id": "8f52103b-a6e8-4e10-ab1f-85eb334bb521",
   "metadata": {},
   "outputs": [
    {
     "data": {
      "image/png": "[encoded data removed]",
      "text/plain": [
       "<Figure size 1152x432 with 1 Axes>"
      ]
     },
     "metadata": {
      "needs_background": "light"
     },
     "output_type": "display_data"
    }
   ],
   "source": [
    "from matplotlib import pyplot as plt\n",
    "%matplotlib inline\n",
    "plt.figure(figsize=(16,6))\n",
    "plt.plot(final[:,0],color='red', label='actual')\n",
    "plt.plot(final[:,1],color='blue', label='predicted')\n",
    "plt.legend(loc = 'lower right')\n",
    "plt.title('Actual vs. Predicted Allied Bank Limited Stock Price using Gradient Boosing Regression')\n",
    "plt.xlabel('Days')\n",
    "plt.ylabel('Scaled Price')\n",
    "plt.show()"
   ]
  },
  {
   "cell_type": "markdown",
   "id": "44876bf3-4a41-4500-a793-03fb0b2b39be",
   "metadata": {},
   "source": [
    "\n"
   ]
  },
  {
   "cell_type": "markdown",
   "id": "60a071d3-06c9-48b4-abd3-0c85f64630ef",
   "metadata": {},
   "source": [
    "\n"
   ]
  },
  {
   "cell_type": "code",
   "execution_count": 75,
   "id": "ca7c1b53-01cc-42e5-9178-60bf2f4114a6",
   "metadata": {},
   "outputs": [
    {
     "name": "stdout",
     "output_type": "stream",
     "text": [
      "Mean Squared Error of our Gradient boosting reg. model is 1.1583211724528664 \n"
     ]
    }
   ],
   "source": [
    "import numpy as np\n",
    "import sklearn.metrics as metrics\n",
    "print('Mean Squared Error of our Gradient boosting reg. model is {} '\n",
    "      .format(np.sqrt(metrics.mean_squared_error(final[:,0],final[:,1])) ) )"
   ]
  },
  {
   "cell_type": "markdown",
   "id": "a2b75f3b-97a4-433f-a1d6-ba6f449b27cb",
   "metadata": {},
   "source": [
    "\n",
    "\n"
   ]
  },
  {
   "cell_type": "code",
   "execution_count": null,
   "id": "e218c20f-9907-4945-8535-5ef891e26601",
   "metadata": {},
   "outputs": [],
   "source": []
  },
  {
   "cell_type": "markdown",
   "id": "ba039290-b0ab-455d-a5e9-897a77be56ba",
   "metadata": {},
   "source": [
    "## Appllying Generalized Linear Regression"
   ]
  },
  {
   "cell_type": "code",
   "execution_count": null,
   "id": "78cc7c39-686e-4544-bdd6-b2b68c48ef0d",
   "metadata": {},
   "outputs": [],
   "source": [
    "# Import LinearRegression class\n",
    "from pyspark.ml.regression import GeneralizedLinearRegression\n",
    "\n",
    "# Define LinearRegression algorithm\n",
    "glr = GeneralizedLinearRegression(family=\"gaussian\", link=\"identity\",\\\n",
    "                                  maxIter=10, regParam=0.3)"
   ]
  },
  {
   "cell_type": "code",
   "execution_count": null,
   "id": "db50a283-6a95-4ce5-a328-25d16e5c2399",
   "metadata": {},
   "outputs": [],
   "source": []
  },
  {
   "cell_type": "code",
   "execution_count": null,
   "id": "4de5ad80-f3de-4529-9b79-01b44fb75d82",
   "metadata": {},
   "outputs": [],
   "source": [
    "pipeline = Pipeline(stages=[featureIndexer, glr])\n",
    "\n",
    "model = pipeline.fit(trainingData)"
   ]
  },
  {
   "cell_type": "code",
   "execution_count": null,
   "id": "7b9cf201-b658-4efa-919a-f5eb409bb715",
   "metadata": {},
   "outputs": [
    {
     "name": "stdout",
     "output_type": "stream",
     "text": [
      "+-----+------------------+\n",
      "|label|        prediction|\n",
      "+-----+------------------+\n",
      "|56.49|56.867577653818785|\n",
      "|58.15| 58.58932712396264|\n",
      "|57.99| 58.65653040902445|\n",
      "|57.75| 57.93664216127119|\n",
      "| 58.0| 58.43201837529468|\n",
      "+-----+------------------+\n",
      "only showing top 5 rows\n",
      "\n"
     ]
    }
   ],
   "source": [
    "predictions = model.transform(testData)\n",
    "pred = predictions.select(\"label\",\"prediction\")\n",
    "pred.show(5)\n"
   ]
  },
  {
   "cell_type": "code",
   "execution_count": null,
   "id": "0f986a3d-ec7b-4044-bdb3-aa3d51e8e447",
   "metadata": {},
   "outputs": [],
   "source": []
  },
  {
   "cell_type": "code",
   "execution_count": null,
   "id": "f8bffbe2-c1a0-4f8b-999c-219d3efe4997",
   "metadata": {},
   "outputs": [
    {
     "data": {
      "text/html": [
       "<div>\n",
       "<style scoped>\n",
       "    .dataframe tbody tr th:only-of-type {\n",
       "        vertical-align: middle;\n",
       "    }\n",
       "\n",
       "    .dataframe tbody tr th {\n",
       "        vertical-align: top;\n",
       "    }\n",
       "\n",
       "    .dataframe thead th {\n",
       "        text-align: right;\n",
       "    }\n",
       "</style>\n",
       "<table border=\"1\" class=\"dataframe\">\n",
       "  <thead>\n",
       "    <tr style=\"text-align: right;\">\n",
       "      <th></th>\n",
       "      <th>label</th>\n",
       "      <th>prediction</th>\n",
       "    </tr>\n",
       "  </thead>\n",
       "  <tbody>\n",
       "    <tr>\n",
       "      <th>0</th>\n",
       "      <td>56.49</td>\n",
       "      <td>56.867578</td>\n",
       "    </tr>\n",
       "    <tr>\n",
       "      <th>1</th>\n",
       "      <td>58.15</td>\n",
       "      <td>58.589327</td>\n",
       "    </tr>\n",
       "    <tr>\n",
       "      <th>2</th>\n",
       "      <td>57.99</td>\n",
       "      <td>58.656530</td>\n",
       "    </tr>\n",
       "    <tr>\n",
       "      <th>3</th>\n",
       "      <td>57.75</td>\n",
       "      <td>57.936642</td>\n",
       "    </tr>\n",
       "    <tr>\n",
       "      <th>4</th>\n",
       "      <td>58.00</td>\n",
       "      <td>58.432018</td>\n",
       "    </tr>\n",
       "    <tr>\n",
       "      <th>...</th>\n",
       "      <td>...</td>\n",
       "      <td>...</td>\n",
       "    </tr>\n",
       "    <tr>\n",
       "      <th>517</th>\n",
       "      <td>128.00</td>\n",
       "      <td>128.577485</td>\n",
       "    </tr>\n",
       "    <tr>\n",
       "      <th>518</th>\n",
       "      <td>128.00</td>\n",
       "      <td>126.282312</td>\n",
       "    </tr>\n",
       "    <tr>\n",
       "      <th>519</th>\n",
       "      <td>127.50</td>\n",
       "      <td>127.973400</td>\n",
       "    </tr>\n",
       "    <tr>\n",
       "      <th>520</th>\n",
       "      <td>128.55</td>\n",
       "      <td>128.460975</td>\n",
       "    </tr>\n",
       "    <tr>\n",
       "      <th>521</th>\n",
       "      <td>129.98</td>\n",
       "      <td>130.519901</td>\n",
       "    </tr>\n",
       "  </tbody>\n",
       "</table>\n",
       "<p>522 rows × 2 columns</p>\n",
       "</div>"
      ],
      "text/plain": [
       "      label  prediction\n",
       "0     56.49   56.867578\n",
       "1     58.15   58.589327\n",
       "2     57.99   58.656530\n",
       "3     57.75   57.936642\n",
       "4     58.00   58.432018\n",
       "..      ...         ...\n",
       "517  128.00  128.577485\n",
       "518  128.00  126.282312\n",
       "519  127.50  127.973400\n",
       "520  128.55  128.460975\n",
       "521  129.98  130.519901\n",
       "\n",
       "[522 rows x 2 columns]"
      ]
     },
     "execution_count": 97,
     "metadata": {},
     "output_type": "execute_result"
    }
   ],
   "source": [
    "panDF = pred.toPandas()\n",
    "panDF"
   ]
  },
  {
   "cell_type": "code",
   "execution_count": null,
   "id": "85d81dc1-b299-4d39-88e5-8a034b33822e",
   "metadata": {},
   "outputs": [],
   "source": [
    "final = panDF.to_numpy()\n"
   ]
  },
  {
   "cell_type": "markdown",
   "id": "0547c429-5333-4449-b02f-7ecbbc42bf51",
   "metadata": {},
   "source": [
    "\n"
   ]
  },
  {
   "cell_type": "markdown",
   "id": "2f2fc8b3-da0a-4791-9154-4fe4106adfc8",
   "metadata": {},
   "source": [
    "\n"
   ]
  },
  {
   "cell_type": "code",
   "execution_count": 99,
   "id": "1928d3bb-9b54-44b8-b446-f4b81e11bf4f",
   "metadata": {},
   "outputs": [
    {
     "data": {
      "image/png": "[encoded data removed]",
      "text/plain": [
       "<Figure size 1152x432 with 1 Axes>"
      ]
     },
     "metadata": {
      "needs_background": "light"
     },
     "output_type": "display_data"
    }
   ],
   "source": [
    "from matplotlib import pyplot as plt\n",
    "%matplotlib inline\n",
    "plt.figure(figsize=(16,6))\n",
    "plt.plot(final[:,0],color='red', label='actual')\n",
    "plt.plot(final[:,1],color='blue', label='predicted')\n",
    "plt.legend(loc = 'lower right')\n",
    "plt.title('Actual vs. Predicted Allied Bank Limited Stock Price uisng Generalized Linear Regression')\n",
    "plt.xlabel('Days')\n",
    "plt.ylabel('Scaled Price')\n",
    "plt.show()"
   ]
  },
  {
   "cell_type": "markdown",
   "id": "a54e119f-eaac-4959-8214-51a8059c079d",
   "metadata": {},
   "source": [
    "\n"
   ]
  },
  {
   "cell_type": "markdown",
   "id": "253e4504-5a24-408f-a8d0-4458bf3d68ca",
   "metadata": {},
   "source": [
    "\n"
   ]
  },
  {
   "cell_type": "code",
   "execution_count": 68,
   "id": "3d26990f-2d66-40d4-ad8d-2c35a370c99e",
   "metadata": {},
   "outputs": [
    {
     "name": "stdout",
     "output_type": "stream",
     "text": [
      "Mean Squared Error of our Generalized linear reg. model is 0.8987958171062352 \n"
     ]
    }
   ],
   "source": [
    "import numpy as np\n",
    "import sklearn.metrics as metrics\n",
    "print('Mean Squared Error of our Generalized linear reg. model is {} '\n",
    "      .format(np.sqrt(metrics.mean_squared_error(final[:,0],final[:,1])) ) )"
   ]
  },
  {
   "cell_type": "markdown",
   "id": "734a8d49-7689-47e2-bb31-58413c1577d4",
   "metadata": {},
   "source": [
    "\n"
   ]
  },
  {
   "cell_type": "markdown",
   "id": "060ea390-2293-4fb8-9bfc-2af07fd868ab",
   "metadata": {},
   "source": [
    "\n"
   ]
  },
  {
   "cell_type": "markdown",
   "id": "2cf610cb-a9e4-494a-92a6-938be50dcd0d",
   "metadata": {},
   "source": [
    "\n"
   ]
  },
  {
   "cell_type": "markdown",
   "id": "dfc903b1-91b3-4c63-8949-57c89b9a7d7c",
   "metadata": {},
   "source": []
  },
  {
   "cell_type": "markdown",
   "id": "303c80d1-d4dc-4b09-a5b2-49c4ea19dca0",
   "metadata": {
    "tags": []
   },
   "source": [
    "## Applying Linear Regression"
   ]
  },
  {
   "cell_type": "code",
   "execution_count": 76,
   "id": "f9555cef-8de0-4413-adf5-ba1d7292a895",
   "metadata": {},
   "outputs": [],
   "source": [
    "# Import LinearRegression class\n",
    "from pyspark.ml.regression import LinearRegression\n",
    "\n",
    "# Define LinearRegression algorithm\n",
    "lr = LinearRegression()"
   ]
  },
  {
   "cell_type": "code",
   "execution_count": null,
   "id": "618e3343-2914-4077-a365-f716e7c21a06",
   "metadata": {},
   "outputs": [],
   "source": []
  },
  {
   "cell_type": "code",
   "execution_count": 84,
   "id": "c4877404-dc94-4995-b3a2-f5d74730c64d",
   "metadata": {},
   "outputs": [],
   "source": [
    "pipeline = Pipeline(stages=[featureIndexer, lr])\n",
    "\n",
    "model = pipeline.fit(trainingData)"
   ]
  },
  {
   "cell_type": "code",
   "execution_count": null,
   "id": "824ab362-a028-4648-a7e4-203a7e9bad87",
   "metadata": {},
   "outputs": [],
   "source": []
  },
  {
   "cell_type": "code",
   "execution_count": 85,
   "id": "e65f71c3-29d4-47c7-9388-f90f68810f88",
   "metadata": {},
   "outputs": [],
   "source": [
    "# Make predictions.\n",
    "predictions = model.transform(testData)"
   ]
  },
  {
   "cell_type": "code",
   "execution_count": null,
   "id": "1d8e34b6-865b-47eb-93ed-0bc76c9c011a",
   "metadata": {},
   "outputs": [],
   "source": []
  },
  {
   "cell_type": "code",
   "execution_count": 86,
   "id": "9556da56-2c65-4aad-9fe3-387c41802102",
   "metadata": {},
   "outputs": [
    {
     "name": "stdout",
     "output_type": "stream",
     "text": [
      "+-----+------------------+\n",
      "|label|        prediction|\n",
      "+-----+------------------+\n",
      "|56.49| 56.64862796594783|\n",
      "|58.15|58.052686166172364|\n",
      "|57.99| 58.13021736027113|\n",
      "|57.75|    57.71657598907|\n",
      "| 58.0|  58.1223096714012|\n",
      "+-----+------------------+\n",
      "only showing top 5 rows\n",
      "\n"
     ]
    }
   ],
   "source": [
    "pred = predictions.select(\"label\",\"prediction\")\n",
    "pred.show(5)"
   ]
  },
  {
   "cell_type": "code",
   "execution_count": null,
   "id": "77da500b-533a-4b7c-9358-2dacc1c7029d",
   "metadata": {},
   "outputs": [],
   "source": []
  },
  {
   "cell_type": "code",
   "execution_count": null,
   "id": "9be38a6f-fa25-48fd-99d1-b6aceef77a3b",
   "metadata": {},
   "outputs": [],
   "source": []
  },
  {
   "cell_type": "code",
   "execution_count": 87,
   "id": "c87f99e7-a19f-43d9-b7c0-aa407786f920",
   "metadata": {},
   "outputs": [
    {
     "data": {
      "text/html": [
       "<div>\n",
       "<style scoped>\n",
       "    .dataframe tbody tr th:only-of-type {\n",
       "        vertical-align: middle;\n",
       "    }\n",
       "\n",
       "    .dataframe tbody tr th {\n",
       "        vertical-align: top;\n",
       "    }\n",
       "\n",
       "    .dataframe thead th {\n",
       "        text-align: right;\n",
       "    }\n",
       "</style>\n",
       "<table border=\"1\" class=\"dataframe\">\n",
       "  <thead>\n",
       "    <tr style=\"text-align: right;\">\n",
       "      <th></th>\n",
       "      <th>label</th>\n",
       "      <th>prediction</th>\n",
       "    </tr>\n",
       "  </thead>\n",
       "  <tbody>\n",
       "    <tr>\n",
       "      <th>0</th>\n",
       "      <td>56.49</td>\n",
       "      <td>56.648628</td>\n",
       "    </tr>\n",
       "    <tr>\n",
       "      <th>1</th>\n",
       "      <td>58.15</td>\n",
       "      <td>58.052686</td>\n",
       "    </tr>\n",
       "    <tr>\n",
       "      <th>2</th>\n",
       "      <td>57.99</td>\n",
       "      <td>58.130217</td>\n",
       "    </tr>\n",
       "    <tr>\n",
       "      <th>3</th>\n",
       "      <td>57.75</td>\n",
       "      <td>57.716576</td>\n",
       "    </tr>\n",
       "    <tr>\n",
       "      <th>4</th>\n",
       "      <td>58.00</td>\n",
       "      <td>58.122310</td>\n",
       "    </tr>\n",
       "    <tr>\n",
       "      <th>...</th>\n",
       "      <td>...</td>\n",
       "      <td>...</td>\n",
       "    </tr>\n",
       "    <tr>\n",
       "      <th>517</th>\n",
       "      <td>128.00</td>\n",
       "      <td>128.428582</td>\n",
       "    </tr>\n",
       "    <tr>\n",
       "      <th>518</th>\n",
       "      <td>128.00</td>\n",
       "      <td>128.325277</td>\n",
       "    </tr>\n",
       "    <tr>\n",
       "      <th>519</th>\n",
       "      <td>127.50</td>\n",
       "      <td>127.793660</td>\n",
       "    </tr>\n",
       "    <tr>\n",
       "      <th>520</th>\n",
       "      <td>128.55</td>\n",
       "      <td>128.844903</td>\n",
       "    </tr>\n",
       "    <tr>\n",
       "      <th>521</th>\n",
       "      <td>129.98</td>\n",
       "      <td>130.193116</td>\n",
       "    </tr>\n",
       "  </tbody>\n",
       "</table>\n",
       "<p>522 rows × 2 columns</p>\n",
       "</div>"
      ],
      "text/plain": [
       "      label  prediction\n",
       "0     56.49   56.648628\n",
       "1     58.15   58.052686\n",
       "2     57.99   58.130217\n",
       "3     57.75   57.716576\n",
       "4     58.00   58.122310\n",
       "..      ...         ...\n",
       "517  128.00  128.428582\n",
       "518  128.00  128.325277\n",
       "519  127.50  127.793660\n",
       "520  128.55  128.844903\n",
       "521  129.98  130.193116\n",
       "\n",
       "[522 rows x 2 columns]"
      ]
     },
     "execution_count": 87,
     "metadata": {},
     "output_type": "execute_result"
    }
   ],
   "source": [
    "panDF = pred.toPandas()\n",
    "panDF"
   ]
  },
  {
   "cell_type": "code",
   "execution_count": 88,
   "id": "97764594-6518-45f0-9c25-67528a5ac7f8",
   "metadata": {},
   "outputs": [],
   "source": [
    "final = panDF.to_numpy()\n"
   ]
  },
  {
   "cell_type": "markdown",
   "id": "4acbeb3b-4b53-4e64-b5fa-1fcdb54c2c5f",
   "metadata": {},
   "source": [
    "\n"
   ]
  },
  {
   "cell_type": "markdown",
   "id": "4b4c64f9-bd85-48df-964f-43a0a8c47b75",
   "metadata": {},
   "source": [
    "\n"
   ]
  },
  {
   "cell_type": "code",
   "execution_count": 133,
   "id": "dc4f677b-1e70-402f-9a6f-4b16eae812a2",
   "metadata": {},
   "outputs": [
    {
     "data": {
      "image/png": "[encoded data removed]",
      "text/plain": [
       "<Figure size 1152x432 with 1 Axes>"
      ]
     },
     "metadata": {
      "needs_background": "light"
     },
     "output_type": "display_data"
    }
   ],
   "source": [
    "from matplotlib import pyplot as plt\n",
    "%matplotlib inline\n",
    "plt.figure(figsize=(16,6))\n",
    "plt.plot(final[:,0],color='red', label='actual')\n",
    "plt.plot(final[:,1],color='blue', label='predicted')\n",
    "plt.legend(loc = 'lower right')\n",
    "plt.title('Actual vs. Predicted Allied Bank Limited Stock Price using Linear Regressor')\n",
    "plt.xlabel('Days')\n",
    "plt.ylabel('Scaled Price')\n",
    "plt.show()"
   ]
  },
  {
   "cell_type": "markdown",
   "id": "23aa941e-9ca1-4287-a79e-b4ae2635b2e1",
   "metadata": {},
   "source": [
    "\n"
   ]
  },
  {
   "cell_type": "markdown",
   "id": "73b34f3a-be7a-4c69-8adf-bf232f67830c",
   "metadata": {},
   "source": [
    "\n"
   ]
  },
  {
   "cell_type": "code",
   "execution_count": 90,
   "id": "09c4b2ca-f451-4302-ad2d-c3fc8dd361b3",
   "metadata": {},
   "outputs": [
    {
     "name": "stdout",
     "output_type": "stream",
     "text": [
      "Mean Squared Error of our Decision tree reg. model is 0.6873134916027349 \n"
     ]
    }
   ],
   "source": [
    "import numpy as np\n",
    "import sklearn.metrics as metrics\n",
    "print('Mean Squared Error of our Decision tree reg. model is {} '\n",
    "      .format(np.sqrt(metrics.mean_squared_error(final[:,0],final[:,1])) ) )"
   ]
  },
  {
   "cell_type": "code",
   "execution_count": null,
   "id": "d71a4b35-2350-4603-8b44-ca36ede6589a",
   "metadata": {},
   "outputs": [],
   "source": []
  },
  {
   "cell_type": "markdown",
   "id": "64f68f21-aa49-4ae4-80cc-a30be3722273",
   "metadata": {},
   "source": [
    "## Conclusion"
   ]
  },
  {
   "cell_type": "markdown",
   "id": "27b6ead0-a525-4013-afc5-b0c5a6bb0933",
   "metadata": {},
   "source": [
    "So looking at all the applied models we can say that linear Regression was way more accurate that any other models"
   ]
  },
  {
   "cell_type": "markdown",
   "id": "5f8dfd9c-2f6e-445a-baa6-5a37f4283326",
   "metadata": {},
   "source": [
    "\n"
   ]
  },
  {
   "cell_type": "markdown",
   "id": "be406313-aca5-433f-9069-28393de18606",
   "metadata": {},
   "source": [
    "\n",
    "\n"
   ]
  },
  {
   "cell_type": "markdown",
   "id": "2df19295-1ab1-436a-b3b4-b5fc39aa9465",
   "metadata": {},
   "source": [
    "\n"
   ]
  },
  {
   "cell_type": "markdown",
   "id": "caab51b6-592f-4448-b5a8-633243acc329",
   "metadata": {},
   "source": [
    "\n"
   ]
  },
  {
   "cell_type": "code",
   "execution_count": 59,
   "id": "ea5b867c-1c50-4ba8-956a-1edd7cd37753",
   "metadata": {},
   "outputs": [
    {
     "data": {
      "text/html": [
       "\n",
       "            <div>\n",
       "                <p><b>SparkSession - in-memory</b></p>\n",
       "                \n",
       "        <div>\n",
       "            <p><b>SparkContext</b></p>\n",
       "\n",
       "            <p><a href=\"http://DESKTOP-7U4GNRT:4040\">Spark UI</a></p>\n",
       "\n",
       "            <dl>\n",
       "              <dt>Version</dt>\n",
       "                <dd><code>v3.2.1</code></dd>\n",
       "              <dt>Master</dt>\n",
       "                <dd><code>local[*]</code></dd>\n",
       "              <dt>AppName</dt>\n",
       "                <dd><code>session</code></dd>\n",
       "            </dl>\n",
       "        </div>\n",
       "        \n",
       "            </div>\n",
       "        "
      ],
      "text/plain": [
       "<pyspark.sql.session.SparkSession at 0x25fd9481108>"
      ]
     },
     "execution_count": 59,
     "metadata": {},
     "output_type": "execute_result"
    }
   ],
   "source": [
    "spark"
   ]
  },
  {
   "cell_type": "code",
   "execution_count": null,
   "id": "90301261-1b82-46ce-b892-4beb9f1c8459",
   "metadata": {},
   "outputs": [],
   "source": []
  }
 ],
 "metadata": {
  "kernelspec": {
   "display_name": "Python 3 (ipykernel)",
   "language": "python",
   "name": "python3"
  },
  "language_info": {
   "codemirror_mode": {
    "name": "ipython",
    "version": 3
   },
   "file_extension": ".py",
   "mimetype": "text/x-python",
   "name": "python",
   "nbconvert_exporter": "python",
   "pygments_lexer": "ipython3",
   "version": "3.7.12"
  }
 },
 "nbformat": 4,
 "nbformat_minor": 5
}
